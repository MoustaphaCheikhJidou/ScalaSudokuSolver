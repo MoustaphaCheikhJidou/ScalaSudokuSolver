{
 "cells": [
  {
   "cell_type": "markdown",
   "id": "90fc1c98-85e5-451b-a81b-71a599907998",
   "metadata": {},
   "source": [
    "# Modifier le programme Scala suivant pour générer la sortie suivante en utilisant le puzzle sudoku dans le fichier txt ci-joint."
   ]
  },
  {
   "cell_type": "code",
   "execution_count": 1,
   "id": "dc40c90e-ca20-4686-afe9-309c5d26b113",
   "metadata": {},
   "outputs": [
    {
     "data": {
      "text/plain": [
       "Intitializing Scala interpreter ..."
      ]
     },
     "metadata": {},
     "output_type": "display_data"
    },
    {
     "data": {
      "text/plain": [
       "Spark Web UI available at http://pc:4041\n",
       "SparkContext available as 'sc' (version = 3.5.3, master = local[*], app id = local-1731929910619)\n",
       "SparkSession available as 'spark'\n"
      ]
     },
     "metadata": {},
     "output_type": "display_data"
    },
    {
     "data": {
      "text/plain": [
       "import scala.io.Source\r\n",
       "defined object Sudoku\r\n"
      ]
     },
     "execution_count": 1,
     "metadata": {},
     "output_type": "execute_result"
    }
   ],
   "source": [
    "import scala.io.Source\n",
    "\n",
    "object Sudoku {\n",
    "  def main(args: Array[String]): Unit = {\n",
    "    // Lire le fichier sudoku\n",
    "    val filename = \"sudoku-v1.txt\"\n",
    "    val lines = Source.fromFile(filename).getLines().toArray\n",
    "\n",
    "    // Convertir les lignes en tableau de chiffres\n",
    "    val sudoku = lines.map(_.split(\" \").map(_.toInt))\n",
    "\n",
    "    // Afficher le tableau Sudoku formaté\n",
    "    println(\"Sudoku Board:\")\n",
    "    for (i <- sudoku.indices) {\n",
    "      println(sudoku(i).grouped(3).map(_.mkString(\" \")).mkString(\" | \"))\n",
    "      if (i % 3 == 2 && i != sudoku.length - 1) {\n",
    "        println(\"------+-------+------\")\n",
    "      }\n",
    "    }\n",
    "  }\n",
    "}"
   ]
  },
  {
   "cell_type": "code",
   "execution_count": 6,
   "id": "409dae02-180c-43c7-8467-84b42f834d99",
   "metadata": {},
   "outputs": [
    {
     "name": "stdout",
     "output_type": "stream",
     "text": [
      "Sudoku Board:\n",
      "5 3 0 | 0 7 0 | 0 0 0\n",
      "6 0 0 | 1 9 5 | 0 0 0\n",
      "0 9 8 | 0 0 0 | 0 6 0\n",
      "------+-------+------\n",
      "8 0 0 | 0 6 0 | 0 0 3\n",
      "4 0 0 | 8 0 3 | 0 0 1\n",
      "7 0 0 | 0 2 0 | 0 0 6\n",
      "------+-------+------\n",
      "0 6 0 | 0 0 0 | 2 8 0\n",
      "0 0 0 | 4 1 9 | 0 0 5\n",
      "0 0 0 | 0 8 0 | 0 7 9\n"
     ]
    }
   ],
   "source": [
    "Sudoku.main(Array())"
   ]
  },
  {
   "cell_type": "code",
   "execution_count": null,
   "id": "81578a85-24be-493e-baf6-1a94ce0402b0",
   "metadata": {},
   "outputs": [],
   "source": []
  }
 ],
 "metadata": {
  "kernelspec": {
   "display_name": "spylon-kernel",
   "language": "scala",
   "name": "spylon-kernel"
  },
  "language_info": {
   "codemirror_mode": "text/x-scala",
   "file_extension": ".scala",
   "help_links": [
    {
     "text": "MetaKernel Magics",
     "url": "https://metakernel.readthedocs.io/en/latest/source/README.html"
    }
   ],
   "mimetype": "text/x-scala",
   "name": "scala",
   "pygments_lexer": "scala",
   "version": "0.4.1"
  }
 },
 "nbformat": 4,
 "nbformat_minor": 5
}
